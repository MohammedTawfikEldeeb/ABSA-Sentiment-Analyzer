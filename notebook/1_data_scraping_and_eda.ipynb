{
 "cells": [
  {
   "cell_type": "code",
   "execution_count": 1,
   "id": "5cc363ea",
   "metadata": {},
   "outputs": [
    {
     "name": "stdout",
     "output_type": "stream",
     "text": [
      "2\n"
     ]
    }
   ],
   "source": [
    "print(2)"
   ]
  },
  {
   "cell_type": "code",
   "execution_count": 2,
   "id": "091fd307",
   "metadata": {},
   "outputs": [],
   "source": [
    "from google_play_scraper import Sort , reviews_all\n",
    "import pandas as pd\n",
    "\n",
    "app_id = \"com.egyptianbanks.instapay\"\n",
    "\n",
    "reviews = reviews_all(\n",
    "    app_id,\n",
    "    sleep_milliseconds=0,\n",
    "    lang=\"ar\",\n",
    "    country=\"eg\",\n",
    "    sort=Sort.NEWEST,\n",
    ")\n",
    "\n"
   ]
  },
  {
   "cell_type": "code",
   "execution_count": 3,
   "id": "88b0d925",
   "metadata": {},
   "outputs": [
    {
     "data": {
      "text/html": [
       "<div>\n",
       "<style scoped>\n",
       "    .dataframe tbody tr th:only-of-type {\n",
       "        vertical-align: middle;\n",
       "    }\n",
       "\n",
       "    .dataframe tbody tr th {\n",
       "        vertical-align: top;\n",
       "    }\n",
       "\n",
       "    .dataframe thead th {\n",
       "        text-align: right;\n",
       "    }\n",
       "</style>\n",
       "<table border=\"1\" class=\"dataframe\">\n",
       "  <thead>\n",
       "    <tr style=\"text-align: right;\">\n",
       "      <th></th>\n",
       "      <th>reviewId</th>\n",
       "      <th>userName</th>\n",
       "      <th>userImage</th>\n",
       "      <th>content</th>\n",
       "      <th>score</th>\n",
       "      <th>thumbsUpCount</th>\n",
       "      <th>reviewCreatedVersion</th>\n",
       "      <th>at</th>\n",
       "      <th>replyContent</th>\n",
       "      <th>repliedAt</th>\n",
       "      <th>appVersion</th>\n",
       "    </tr>\n",
       "  </thead>\n",
       "  <tbody>\n",
       "    <tr>\n",
       "      <th>0</th>\n",
       "      <td>37638eb6-9bb3-4f3f-b3d6-fe26f55edfcc</td>\n",
       "      <td>مستخدم Google</td>\n",
       "      <td>https://play-lh.googleusercontent.com/EGemoI2N...</td>\n",
       "      <td>تمام</td>\n",
       "      <td>5</td>\n",
       "      <td>0</td>\n",
       "      <td>1.9.4</td>\n",
       "      <td>2025-09-09 03:20:54</td>\n",
       "      <td>None</td>\n",
       "      <td>NaT</td>\n",
       "      <td>1.9.4</td>\n",
       "    </tr>\n",
       "    <tr>\n",
       "      <th>1</th>\n",
       "      <td>d34ba5db-9e4e-4999-a655-c445716b944e</td>\n",
       "      <td>مستخدم Google</td>\n",
       "      <td>https://play-lh.googleusercontent.com/EGemoI2N...</td>\n",
       "      <td>خدمة عملاء مبيردوش خدمة سيئة</td>\n",
       "      <td>1</td>\n",
       "      <td>0</td>\n",
       "      <td>1.9.4</td>\n",
       "      <td>2025-09-09 00:41:10</td>\n",
       "      <td>None</td>\n",
       "      <td>NaT</td>\n",
       "      <td>1.9.4</td>\n",
       "    </tr>\n",
       "    <tr>\n",
       "      <th>2</th>\n",
       "      <td>727362b0-c3ef-4ae9-ad29-6f74ba81f410</td>\n",
       "      <td>مستخدم Google</td>\n",
       "      <td>https://play-lh.googleusercontent.com/EGemoI2N...</td>\n",
       "      <td>ممتاز</td>\n",
       "      <td>5</td>\n",
       "      <td>0</td>\n",
       "      <td>1.9.4</td>\n",
       "      <td>2025-09-09 00:12:26</td>\n",
       "      <td>None</td>\n",
       "      <td>NaT</td>\n",
       "      <td>1.9.4</td>\n",
       "    </tr>\n",
       "    <tr>\n",
       "      <th>3</th>\n",
       "      <td>41c57c16-9f6e-4a51-9584-77415a5bb18a</td>\n",
       "      <td>مستخدم Google</td>\n",
       "      <td>https://play-lh.googleusercontent.com/EGemoI2N...</td>\n",
       "      <td>جيد جدا</td>\n",
       "      <td>5</td>\n",
       "      <td>0</td>\n",
       "      <td>1.9.4</td>\n",
       "      <td>2025-09-08 23:23:12</td>\n",
       "      <td>None</td>\n",
       "      <td>NaT</td>\n",
       "      <td>1.9.4</td>\n",
       "    </tr>\n",
       "    <tr>\n",
       "      <th>4</th>\n",
       "      <td>a2aec7ed-93bb-4045-b2f1-2fe7ee5e95b7</td>\n",
       "      <td>مستخدم Google</td>\n",
       "      <td>https://play-lh.googleusercontent.com/EGemoI2N...</td>\n",
       "      <td>كانت رائعه</td>\n",
       "      <td>5</td>\n",
       "      <td>0</td>\n",
       "      <td>None</td>\n",
       "      <td>2025-09-08 20:58:23</td>\n",
       "      <td>None</td>\n",
       "      <td>NaT</td>\n",
       "      <td>None</td>\n",
       "    </tr>\n",
       "  </tbody>\n",
       "</table>\n",
       "</div>"
      ],
      "text/plain": [
       "                               reviewId       userName  \\\n",
       "0  37638eb6-9bb3-4f3f-b3d6-fe26f55edfcc  مستخدم Google   \n",
       "1  d34ba5db-9e4e-4999-a655-c445716b944e  مستخدم Google   \n",
       "2  727362b0-c3ef-4ae9-ad29-6f74ba81f410  مستخدم Google   \n",
       "3  41c57c16-9f6e-4a51-9584-77415a5bb18a  مستخدم Google   \n",
       "4  a2aec7ed-93bb-4045-b2f1-2fe7ee5e95b7  مستخدم Google   \n",
       "\n",
       "                                           userImage  \\\n",
       "0  https://play-lh.googleusercontent.com/EGemoI2N...   \n",
       "1  https://play-lh.googleusercontent.com/EGemoI2N...   \n",
       "2  https://play-lh.googleusercontent.com/EGemoI2N...   \n",
       "3  https://play-lh.googleusercontent.com/EGemoI2N...   \n",
       "4  https://play-lh.googleusercontent.com/EGemoI2N...   \n",
       "\n",
       "                        content  score  thumbsUpCount reviewCreatedVersion  \\\n",
       "0                          تمام      5              0                1.9.4   \n",
       "1  خدمة عملاء مبيردوش خدمة سيئة      1              0                1.9.4   \n",
       "2                         ممتاز      5              0                1.9.4   \n",
       "3                       جيد جدا      5              0                1.9.4   \n",
       "4                    كانت رائعه      5              0                 None   \n",
       "\n",
       "                   at replyContent repliedAt appVersion  \n",
       "0 2025-09-09 03:20:54         None       NaT      1.9.4  \n",
       "1 2025-09-09 00:41:10         None       NaT      1.9.4  \n",
       "2 2025-09-09 00:12:26         None       NaT      1.9.4  \n",
       "3 2025-09-08 23:23:12         None       NaT      1.9.4  \n",
       "4 2025-09-08 20:58:23         None       NaT       None  "
      ]
     },
     "execution_count": 3,
     "metadata": {},
     "output_type": "execute_result"
    }
   ],
   "source": [
    "df= pd.DataFrame(reviews)\n",
    "df.head()"
   ]
  },
  {
   "cell_type": "code",
   "execution_count": 28,
   "id": "6c0ccf15",
   "metadata": {},
   "outputs": [
    {
     "data": {
      "text/plain": [
       "reviewId                             d0973f2c-f301-4eb9-934f-97a314ac4871\n",
       "userName                                                    مستخدم Google\n",
       "userImage               https://play-lh.googleusercontent.com/EGemoI2N...\n",
       "content                                                     محترم محترمين\n",
       "score                                                                   4\n",
       "thumbsUpCount                                                           0\n",
       "reviewCreatedVersion                                                1.8.0\n",
       "at                                                    2024-10-18 09:45:14\n",
       "replyContent                             يسعدنا مشاركتك في تقييم التطبيق.\n",
       "repliedAt                                             2024-10-20 12:40:00\n",
       "appVersion                                                          1.8.0\n",
       "Name: 9000, dtype: object"
      ]
     },
     "execution_count": 28,
     "metadata": {},
     "output_type": "execute_result"
    }
   ],
   "source": [
    "df.iloc[9000]"
   ]
  },
  {
   "cell_type": "code",
   "execution_count": 29,
   "id": "2cbe6ebe",
   "metadata": {},
   "outputs": [
    {
     "data": {
      "text/plain": [
       "Index(['reviewId', 'userName', 'userImage', 'content', 'score',\n",
       "       'thumbsUpCount', 'reviewCreatedVersion', 'at', 'replyContent',\n",
       "       'repliedAt', 'appVersion'],\n",
       "      dtype='object')"
      ]
     },
     "execution_count": 29,
     "metadata": {},
     "output_type": "execute_result"
    }
   ],
   "source": [
    "df.columns"
   ]
  },
  {
   "cell_type": "code",
   "execution_count": 5,
   "id": "3bcc9a60",
   "metadata": {},
   "outputs": [
    {
     "data": {
      "text/plain": [
       "np.int64(0)"
      ]
     },
     "execution_count": 5,
     "metadata": {},
     "output_type": "execute_result"
    }
   ],
   "source": [
    "df.duplicated().sum()"
   ]
  },
  {
   "cell_type": "code",
   "execution_count": 7,
   "id": "119833cb",
   "metadata": {},
   "outputs": [],
   "source": [
    "df_useful = df[['at', 'score', 'content']].copy()\n",
    "df_useful.rename(columns={\n",
    "        'at': 'review_date',\n",
    "        'score': 'rating',\n",
    "        'content': 'review_text'\n",
    "    }, inplace=True)\n",
    "\n"
   ]
  },
  {
   "cell_type": "code",
   "execution_count": 8,
   "id": "f3ff84a1",
   "metadata": {},
   "outputs": [
    {
     "data": {
      "text/plain": [
       "review_date    0\n",
       "rating         0\n",
       "review_text    0\n",
       "dtype: int64"
      ]
     },
     "execution_count": 8,
     "metadata": {},
     "output_type": "execute_result"
    }
   ],
   "source": [
    "df_useful.isna().sum()"
   ]
  },
  {
   "cell_type": "code",
   "execution_count": 9,
   "id": "d88ec08c",
   "metadata": {},
   "outputs": [
    {
     "data": {
      "text/plain": [
       "np.int64(0)"
      ]
     },
     "execution_count": 9,
     "metadata": {},
     "output_type": "execute_result"
    }
   ],
   "source": [
    "df_useful.duplicated().sum()"
   ]
  },
  {
   "cell_type": "code",
   "execution_count": 14,
   "id": "686b1e53",
   "metadata": {},
   "outputs": [
    {
     "data": {
      "text/plain": [
       "7                                        سهل جدا ومريح\n",
       "8    تطبيق معوق و سيء جدا و خدمة العملاء زباله مبير...\n",
       "9    لم استطع التسجيل كلما ادخل البيانات الشخصية ير...\n",
       "Name: review_text, dtype: object"
      ]
     },
     "execution_count": 14,
     "metadata": {},
     "output_type": "execute_result"
    }
   ],
   "source": [
    "df_useful[\"review_text\"].iloc[7:10]"
   ]
  },
  {
   "cell_type": "code",
   "execution_count": null,
   "id": "a6f31bb5",
   "metadata": {},
   "outputs": [],
   "source": []
  }
 ],
 "metadata": {
  "kernelspec": {
   "display_name": ".venv",
   "language": "python",
   "name": "python3"
  },
  "language_info": {
   "codemirror_mode": {
    "name": "ipython",
    "version": 3
   },
   "file_extension": ".py",
   "mimetype": "text/x-python",
   "name": "python",
   "nbconvert_exporter": "python",
   "pygments_lexer": "ipython3",
   "version": "3.12.11"
  }
 },
 "nbformat": 4,
 "nbformat_minor": 5
}
